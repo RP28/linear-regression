{
 "cells": [
  {
   "cell_type": "code",
   "execution_count": 55,
   "id": "965883bb",
   "metadata": {},
   "outputs": [
    {
     "name": "stdout",
     "output_type": "stream",
     "text": [
      "[3.65771871e-02 7.24577730e+01 5.79935384e-01]\n"
     ]
    }
   ],
   "source": [
    "import pandas as pd\n",
    "import numpy as np\n",
    "data = pd.read_excel('Sample-data-sets-for-linear-regression1.xlsx')\n",
    "data = data[data.columns[0:-1]]\n",
    "# print(data)\n",
    "o = np.array([0,0,0])\n",
    "o = o.astype('float64')\n",
    "x = np.array(data[data.columns[0]])\n",
    "a = np.array(data[data.columns[1]])\n",
    "one = np.ones([1,16])\n",
    "x = np.vstack((x,a))\n",
    "x = np.vstack((one,x))\n",
    "y = np.array(data[data.columns[2]])\n",
    "# print(x)\n",
    "for i in range (0,16):\n",
    "    h = np.matmul(o,x[:,i])\n",
    "    o -= 0.0000005*(h-y[i])*np.transpose(x[:,i])\n",
    "print(o)"
   ]
  },
  {
   "cell_type": "code",
   "execution_count": 52,
   "id": "9d28e4c4",
   "metadata": {},
   "outputs": [
    {
     "data": {
      "text/plain": [
       "144702.6167671055"
      ]
     },
     "execution_count": 52,
     "metadata": {},
     "output_type": "execute_result"
    }
   ],
   "source": [
    "3.65771871e-02 + (1997)*(7.24577730e+01) + (7.6)*(5.79935384e-01)"
   ]
  }
 ],
 "metadata": {
  "kernelspec": {
   "display_name": "Python 3",
   "language": "python",
   "name": "python3"
  },
  "language_info": {
   "codemirror_mode": {
    "name": "ipython",
    "version": 3
   },
   "file_extension": ".py",
   "mimetype": "text/x-python",
   "name": "python",
   "nbconvert_exporter": "python",
   "pygments_lexer": "ipython3",
   "version": "3.8.8"
  }
 },
 "nbformat": 4,
 "nbformat_minor": 5
}
