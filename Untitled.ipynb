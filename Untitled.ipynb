{
 "cells": [
  {
   "cell_type": "code",
   "execution_count": 50,
   "id": "965883bb",
   "metadata": {},
   "outputs": [
    {
     "ename": "SyntaxError",
     "evalue": "invalid syntax (<ipython-input-50-2d82cc8f4df6>, line 15)",
     "output_type": "error",
     "traceback": [
      "\u001b[1;36m  File \u001b[1;32m\"<ipython-input-50-2d82cc8f4df6>\"\u001b[1;36m, line \u001b[1;32m15\u001b[0m\n\u001b[1;33m    o[j] -= 0.001*(h - y[i])*x[j,i]\u001b[0m\n\u001b[1;37m    ^\u001b[0m\n\u001b[1;31mSyntaxError\u001b[0m\u001b[1;31m:\u001b[0m invalid syntax\n"
     ]
    }
   ],
   "source": [
    "import pandas as pd\n",
    "import numpy as np\n",
    "data = pd.read_excel('Sample-data-sets-for-linear-regression1.xlsx')\n",
    "data = data[data.columns[0:-1]]\n",
    "# print(data)\n",
    "o = np.array([0,0])\n",
    "x = np.array(data[data.columns[0]])\n",
    "a = np.array(data[data.columns[1]])\n",
    "x = np.vstack((x,a))\n",
    "y = np.array(data[data.columns[2]])\n",
    "print(x)\n",
    "for i in range [0,16]:\n",
    "    for j in range [0,2]:\n",
    "        h = np.matmul(o,x[:,i]\n",
    "        o[j] -= 0.001*(h - y[i])*x[j,i]"
   ]
  },
  {
   "cell_type": "code",
   "execution_count": null,
   "id": "7748e35a",
   "metadata": {},
   "outputs": [],
   "source": []
  }
 ],
 "metadata": {
  "kernelspec": {
   "display_name": "Python 3",
   "language": "python",
   "name": "python3"
  },
  "language_info": {
   "codemirror_mode": {
    "name": "ipython",
    "version": 3
   },
   "file_extension": ".py",
   "mimetype": "text/x-python",
   "name": "python",
   "nbconvert_exporter": "python",
   "pygments_lexer": "ipython3",
   "version": "3.8.8"
  }
 },
 "nbformat": 4,
 "nbformat_minor": 5
}
